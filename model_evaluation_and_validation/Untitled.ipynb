{
 "cells": [
  {
   "cell_type": "code",
   "execution_count": 3,
   "metadata": {
    "collapsed": true
   },
   "outputs": [],
   "source": [
    "# In this exercise we'll examine a learner which has high bias, and is incapable of\n",
    "# learning the patterns in the data.\n",
    "# Use the learning curve function from sklearn.learning_curve to plot learning curves\n",
    "# of both training and testing error. Use plt.plot() within the plot_curve function\n",
    "# to create line graphs of the values.\n",
    "\n",
    "from sklearn.linear_model import LinearRegression\n",
    "from sklearn.learning_curve import learning_curve\n",
    "import matplotlib.pyplot as plt\n",
    "from sklearn.metrics import explained_variance_score, make_scorer\n",
    "from sklearn.cross_validation import KFold\n",
    "import numpy as np\n",
    "\n",
    "size = 1000\n",
    "cv = KFold(size,shuffle=True)\n",
    "score = make_scorer(explained_variance_score)\n",
    "\n",
    "X = np.reshape(np.random.normal(scale=2,size=size),(-1,1))\n",
    "y = np.array([[1 - 2*x[0] +x[0]**2] for x in X])\n",
    "\n",
    "def plot_curve():\n",
    "    reg = LinearRegression()\n",
    "    reg.fit(X,y)\n",
    "    print reg.score(X,y)\n",
    "    \n",
    "    # TODO: Create the learning curve with the cv and score parameters defined above.\n",
    "    [train_size,curve,_]=learning_curve(reg,X,y,cv=cv,scoring=score)\n",
    "    # TODO: Plot the training and testing curves.\n",
    "    print train_size\n",
    "    print curve\n",
    "    \n",
    "    \n",
    "    # Sizes the window for readability and displays the plot.\n",
    "    plt.ylim(-.1,1.1)\n",
    "    plt.show()"
   ]
  },
  {
   "cell_type": "code",
   "execution_count": 5,
   "metadata": {
    "collapsed": false
   },
   "outputs": [
    {
     "name": "stdout",
     "output_type": "stream",
     "text": [
      "0.328484650459\n",
      "[ 66 216 366 516 666]\n",
      "[[ 0.56037294  0.42602044  0.41061331]\n",
      " [ 0.29419445  0.3169102   0.25627098]\n",
      " [ 0.34285576  0.42669352  0.34271583]\n",
      " [ 0.35385713  0.40370958  0.39465071]\n",
      " [ 0.32447217  0.34329653  0.31768998]]\n"
     ]
    }
   ],
   "source": [
    "    reg = LinearRegression()\n",
    "    reg.fit(X,y)\n",
    "    print reg.score(X,y)\n",
    "    \n",
    "    # TODO: Create the learning curve with the cv and score parameters defined above.\n",
    "    [train_size,curve,_]=learning_curve(reg,X,y,cv=cv,scoring=score)\n",
    "    # TODO: Plot the training and testing curves.\n",
    "    print train_size\n",
    "    print curve\n",
    "    \n",
    "    \n",
    "    # Sizes the window for readability and displays the plot.\n",
    "    plt.ylim(-.1,1.1)\n",
    "    plt.show()"
   ]
  },
  {
   "cell_type": "code",
   "execution_count": 8,
   "metadata": {
    "collapsed": false
   },
   "outputs": [
    {
     "data": {
      "text/plain": [
       "array([ 0.4656689 ,  0.28912521,  0.37075504,  0.38407248,  0.32848623])"
      ]
     },
     "execution_count": 8,
     "metadata": {},
     "output_type": "execute_result"
    }
   ],
   "source": [
    "curve.mean(axis=1)"
   ]
  },
  {
   "cell_type": "code",
   "execution_count": 9,
   "metadata": {
    "collapsed": false
   },
   "outputs": [
    {
     "data": {
      "text/plain": [
       "array([ 0.37515049,  0.38332606,  0.34438816])"
      ]
     },
     "execution_count": 9,
     "metadata": {},
     "output_type": "execute_result"
    }
   ],
   "source": [
    "curve.mean(axis=0)"
   ]
  },
  {
   "cell_type": "code",
   "execution_count": 10,
   "metadata": {
    "collapsed": false
   },
   "outputs": [
    {
     "data": {
      "text/plain": [
       "array([ 66, 216, 366, 516, 666])"
      ]
     },
     "execution_count": 10,
     "metadata": {},
     "output_type": "execute_result"
    }
   ],
   "source": [
    "train_size"
   ]
  },
  {
   "cell_type": "code",
   "execution_count": 11,
   "metadata": {
    "collapsed": false
   },
   "outputs": [
    {
     "data": {
      "text/plain": [
       "[<matplotlib.lines.Line2D at 0xc3c75c0>]"
      ]
     },
     "execution_count": 11,
     "metadata": {},
     "output_type": "execute_result"
    }
   ],
   "source": [
    "plt.plot(train_size,curve.mean(axis=1))"
   ]
  },
  {
   "cell_type": "code",
   "execution_count": 12,
   "metadata": {
    "collapsed": true
   },
   "outputs": [],
   "source": [
    "plt.show()"
   ]
  },
  {
   "cell_type": "code",
   "execution_count": 13,
   "metadata": {
    "collapsed": true
   },
   "outputs": [],
   "source": [
    "# In this exercise we'll examine a learner which has high variance, and tries to learn\n",
    "# nonexistant patterns in the data.\n",
    "# Use the learning curve function from sklearn.learning_curve to plot learning curves\n",
    "# of both training and testing error. Use plt.plot() within the plot_curve function\n",
    "# to create line graphs of the values.\n",
    "\n",
    "from sklearn.tree import DecisionTreeRegressor\n",
    "import matplotlib.pyplot as plt\n",
    "from sklearn.learning_curve import learning_curve\n",
    "from sklearn.cross_validation import KFold\n",
    "from sklearn.metrics import explained_variance_score, make_scorer\n",
    "import numpy as np\n",
    "\n",
    "size = 1000\n",
    "cv = KFold(size,shuffle=True)\n",
    "score = make_scorer(explained_variance_score)\n",
    "\n",
    "X = np.round(np.reshape(np.random.normal(scale=5,size=2*size),(-1,2)),2)\n",
    "y = np.array([[np.sin(x[0]+np.sin(x[1]))] for x in X])\n",
    "\n",
    "def plot_curve():\n",
    "    # YOUR CODE HERE\n",
    "    reg = DecisionTreeRegressor()\n",
    "    reg.fit(X,y)\n",
    "    print reg.score(X,y)\n",
    "\n",
    "    # TODO: Create the learning curve with the cv and score parameters defined above.\n",
    "    [train_size,curve,_]=learning_curve(reg,X,y,cv=cv,scoring=score)\n",
    "    # TODO: Plot the training and testing curves.\n",
    "    plt.plot(train_size,curve.mean(axis=1))\n",
    "    \n",
    "    # Show the result, scaling the axis for visibility\n",
    "    plt.ylim(-.1,1.1)\n",
    "    plt.show()"
   ]
  },
  {
   "cell_type": "code",
   "execution_count": 14,
   "metadata": {
    "collapsed": false
   },
   "outputs": [
    {
     "name": "stdout",
     "output_type": "stream",
     "text": [
      "0.999999998188\n"
     ]
    }
   ],
   "source": [
    "    reg = DecisionTreeRegressor()\n",
    "    reg.fit(X,y)\n",
    "    print reg.score(X,y)\n",
    "\n",
    "    # TODO: Create the learning curve with the cv and score parameters defined above.\n",
    "    [train_size,curve,_]=learning_curve(reg,X,y,cv=cv,scoring=score)\n",
    "    # TODO: Plot the training and testing curves.\n",
    "    plt.plot(train_size,curve.mean(axis=1))\n",
    "    \n",
    "    # Show the result, scaling the axis for visibility\n",
    "    plt.ylim(-.1,1.1)\n",
    "    plt.show()"
   ]
  },
  {
   "cell_type": "code",
   "execution_count": null,
   "metadata": {
    "collapsed": true
   },
   "outputs": [],
   "source": []
  }
 ],
 "metadata": {
  "kernelspec": {
   "display_name": "Python [Root]",
   "language": "python",
   "name": "Python [Root]"
  },
  "language_info": {
   "codemirror_mode": {
    "name": "ipython",
    "version": 2
   },
   "file_extension": ".py",
   "mimetype": "text/x-python",
   "name": "python",
   "nbconvert_exporter": "python",
   "pygments_lexer": "ipython2",
   "version": "2.7.12"
  }
 },
 "nbformat": 4,
 "nbformat_minor": 0
}
